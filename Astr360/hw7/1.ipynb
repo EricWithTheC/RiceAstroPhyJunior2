{
 "cells": [
  {
   "cell_type": "code",
   "execution_count": 99,
   "metadata": {},
   "outputs": [],
   "source": [
    "import numpy as np\n",
    "import matplotlib.pyplot as plt\n"
   ]
  },
  {
   "cell_type": "code",
   "execution_count": 100,
   "metadata": {},
   "outputs": [],
   "source": [
    "#constants\n",
    "H0 = 2.3e-18 #s^-1\n",
    "omega_m_0 = 0.27\n",
    "omega_lambda_0 = 0.73\n",
    "omega_red_0 = 8.24e-5\n",
    "c = 3e8 #m/s\n",
    "\n",
    "z =  5.5e7\n",
    "R = 1/(1+z)\n"
   ]
  },
  {
   "cell_type": "code",
   "execution_count": 101,
   "metadata": {},
   "outputs": [],
   "source": [
    "def t(R, steps):\n",
    "    t = 0\n",
    "    for i in range(steps):\n",
    "        Rp = R*i/steps\n",
    "        t += (Rp/(np.sqrt(omega_m_0*Rp + omega_lambda_0*Rp**4 + omega_red_0)))\n",
    "    t = t*R/steps\n",
    "    return t, t/H0\n"
   ]
  },
  {
   "cell_type": "code",
   "execution_count": 102,
   "metadata": {},
   "outputs": [
    {
     "data": {
      "text/plain": [
       "0.6310338909906495"
      ]
     },
     "execution_count": 102,
     "metadata": {},
     "output_type": "execute_result"
    }
   ],
   "source": [
    "1.9900284786281124e+16/(365*24*3600*1000*1000*1000)"
   ]
  },
  {
   "cell_type": "code",
   "execution_count": 103,
   "metadata": {},
   "outputs": [
    {
     "name": "stdout",
     "output_type": "stream",
     "text": [
      "(1.8208406696067133e-14, 7916.698563507449)\n"
     ]
    }
   ],
   "source": [
    "steps = 1000000\n",
    "tt = t(R, steps)\n",
    "print(tt)"
   ]
  },
  {
   "cell_type": "code",
   "execution_count": 104,
   "metadata": {},
   "outputs": [],
   "source": [
    "def integration(start,stop,function,steps):\n",
    "    t = 0\n",
    "    diff = stop-start\n",
    "    for i in range(steps):\n",
    "        xp = start + diff*i/steps\n",
    "        t += function(xp)\n",
    "    t = t*diff/steps\n",
    "    return t"
   ]
  },
  {
   "cell_type": "code",
   "execution_count": 105,
   "metadata": {},
   "outputs": [
    {
     "data": {
      "text/plain": [
       "7.146315564747998e-17"
      ]
     },
     "execution_count": 105,
     "metadata": {},
     "output_type": "execute_result"
    }
   ],
   "source": [
    "integration(0,2*np.pi,np.sin,1000)"
   ]
  },
  {
   "cell_type": "code",
   "execution_count": 106,
   "metadata": {},
   "outputs": [],
   "source": [
    "def Iz(z):\n",
    "    return 1/np.sqrt(omega_m_0*(1+z)**3 + omega_lambda_0 + omega_red_0*(1+z)**4+(1-omega_m_0-omega_lambda_0-omega_red_0)*(1+z)**2)"
   ]
  },
  {
   "cell_type": "code",
   "execution_count": 107,
   "metadata": {},
   "outputs": [],
   "source": [
    "Iz425 = integration(0,4.25,Iz,10000)\n",
    "dp = c*integration(0,4.25,Iz,10000)/H0"
   ]
  },
  {
   "cell_type": "code",
   "execution_count": 108,
   "metadata": {},
   "outputs": [
    {
     "name": "stdout",
     "output_type": "stream",
     "text": [
      "7486.561464477011\n"
     ]
    }
   ],
   "source": [
    "mpc = 3.086e22\n",
    "print(dp/mpc)"
   ]
  },
  {
   "cell_type": "code",
   "execution_count": 109,
   "metadata": {},
   "outputs": [
    {
     "data": {
      "text/plain": [
       "0.00013611929687923116"
      ]
     },
     "execution_count": 109,
     "metadata": {},
     "output_type": "execute_result"
    }
   ],
   "source": [
    "dp*R/mpc"
   ]
  },
  {
   "cell_type": "code",
   "execution_count": 110,
   "metadata": {},
   "outputs": [
    {
     "data": {
      "text/plain": [
       "411760888032.79706"
      ]
     },
     "execution_count": 110,
     "metadata": {},
     "output_type": "execute_result"
    }
   ],
   "source": [
    "(Iz425*c/H0)*(1+z)/mpc"
   ]
  },
  {
   "cell_type": "code",
   "execution_count": 111,
   "metadata": {},
   "outputs": [
    {
     "data": {
      "text/plain": [
       "0.03456718299275204"
      ]
     },
     "execution_count": 111,
     "metadata": {},
     "output_type": "execute_result"
    }
   ],
   "source": [
    "1426*5/206265"
   ]
  },
  {
   "cell_type": "code",
   "execution_count": 112,
   "metadata": {},
   "outputs": [],
   "source": [
    "I1 = integration(0,1,Iz,10000)"
   ]
  },
  {
   "cell_type": "code",
   "execution_count": 113,
   "metadata": {},
   "outputs": [
    {
     "data": {
      "text/plain": [
       "0.7856307059119724"
      ]
     },
     "execution_count": 113,
     "metadata": {},
     "output_type": "execute_result"
    }
   ],
   "source": [
    "I1"
   ]
  },
  {
   "cell_type": "code",
   "execution_count": 114,
   "metadata": {},
   "outputs": [
    {
     "data": {
      "text/plain": [
       "0.04024671272217309"
      ]
     },
     "execution_count": 114,
     "metadata": {},
     "output_type": "execute_result"
    }
   ],
   "source": [
    "(c/H0)*(I1/(1+1))*(5/206265)/mpc"
   ]
  },
  {
   "cell_type": "code",
   "execution_count": 115,
   "metadata": {},
   "outputs": [],
   "source": [
    "G = 6.674e-11\n",
    "mH = 1.67e-27 #kg\n",
    "c = 3e8 #m/s\n",
    "sigma = 6.65e-29 #m^2\n",
    "H0 = 2.3e-18 #s^-1\n",
    "omega_b_0 = 0.048\n",
    "\n",
    "constant = (8*np.pi*G*mH)/(3*c*sigma*H0*omega_b_0)"
   ]
  },
  {
   "cell_type": "code",
   "execution_count": 116,
   "metadata": {},
   "outputs": [
    {
     "data": {
      "text/plain": [
       "423.9447925126503"
      ]
     },
     "execution_count": 116,
     "metadata": {},
     "output_type": "execute_result"
    }
   ],
   "source": [
    "constant"
   ]
  },
  {
   "cell_type": "code",
   "execution_count": 117,
   "metadata": {},
   "outputs": [
    {
     "data": {
      "text/plain": [
       "0.022443603223696634"
      ]
     },
     "execution_count": 117,
     "metadata": {},
     "output_type": "execute_result"
    }
   ],
   "source": [
    "T0 = 2.725 #K\n",
    "T = 10**9 #K\n",
    "\n",
    "R = T0/T\n",
    "rho0 = (3*H0**2/(8*np.pi*G))*omega_b_0\n",
    "rho = rho0/R**3\n",
    "rho"
   ]
  },
  {
   "cell_type": "code",
   "execution_count": 118,
   "metadata": {},
   "outputs": [],
   "source": [
    "z = 1/R - 1"
   ]
  },
  {
   "cell_type": "code",
   "execution_count": 119,
   "metadata": {},
   "outputs": [],
   "source": [
    "dht = ((2*c)/(H0*np.sqrt(omega_m_0)))*1/(1+z)**(3/2)\n",
    "dht = 1.07e11"
   ]
  },
  {
   "cell_type": "code",
   "execution_count": 120,
   "metadata": {},
   "outputs": [
    {
     "data": {
      "text/plain": [
       "'1.07e+11'"
      ]
     },
     "execution_count": 120,
     "metadata": {},
     "output_type": "execute_result"
    }
   ],
   "source": [
    "np.format_float_scientific(dht,precision=2)"
   ]
  },
  {
   "cell_type": "code",
   "execution_count": 121,
   "metadata": {},
   "outputs": [
    {
     "data": {
      "text/plain": [
       "1.4396023192784668e+31"
      ]
     },
     "execution_count": 121,
     "metadata": {},
     "output_type": "execute_result"
    }
   ],
   "source": [
    "M = (4/3)*np.pi*(dht/2)**3*rho\n",
    "M"
   ]
  },
  {
   "cell_type": "code",
   "execution_count": 122,
   "metadata": {},
   "outputs": [
    {
     "data": {
      "text/plain": [
       "'7.23781960421552e+00'"
      ]
     },
     "execution_count": 122,
     "metadata": {},
     "output_type": "execute_result"
    }
   ],
   "source": [
    "inSolar = M/1.989e30\n",
    "\n",
    "np.format_float_scientific(inSolar)"
   ]
  },
  {
   "cell_type": "code",
   "execution_count": 132,
   "metadata": {},
   "outputs": [
    {
     "data": {
      "text/plain": [
       "'1.2993815157789826e-01'"
      ]
     },
     "execution_count": 132,
     "metadata": {},
     "output_type": "execute_result"
    }
   ],
   "source": [
    "np.format_float_scientific((np.pi/300)*(np.sqrt(3*omega_m_0)/H0)/(3600*24*365*1e9))"
   ]
  },
  {
   "cell_type": "code",
   "execution_count": null,
   "metadata": {},
   "outputs": [],
   "source": []
  }
 ],
 "metadata": {
  "kernelspec": {
   "display_name": "Python 3",
   "language": "python",
   "name": "python3"
  },
  "language_info": {
   "codemirror_mode": {
    "name": "ipython",
    "version": 3
   },
   "file_extension": ".py",
   "mimetype": "text/x-python",
   "name": "python",
   "nbconvert_exporter": "python",
   "pygments_lexer": "ipython3",
   "version": "3.12.1"
  }
 },
 "nbformat": 4,
 "nbformat_minor": 2
}
